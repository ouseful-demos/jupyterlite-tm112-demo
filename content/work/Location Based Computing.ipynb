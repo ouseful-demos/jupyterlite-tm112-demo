{
  "metadata": {
    "kernelspec": {
      "name": "xpython",
      "display_name": "Python 3.11 (XPython)",
      "language": "python"
    },
    "language_info": {
      "file_extension": ".py",
      "mimetype": "text/x-python",
      "name": "python",
      "version": "3.11.3"
    },
    "jupytext": {
      "formats": "ipynb,.md//md"
    }
  },
  "nbformat_minor": 5,
  "nbformat": 4,
  "cells": [
    {
      "id": "public-precipitation",
      "cell_type": "markdown",
      "source": "# Location Based Computing\n\nWelcome to this collection of practical activities. The materials are presented as an online interactive Jupyter Book textbook, although you can can also work through them as live interactive Jupyter notebooks if you prefer.",
      "metadata": {}
    },
    {
      "id": "timely-greeting",
      "cell_type": "markdown",
      "source": "```{note}\nLaunching the execution environments that support the live interactive textbook activities or the live notebooks may take some time. We are freeloading on a community project that provides the computing backend — [MyBinder.org](https://mybinder.readthedocs.io/en/latest/) — and its available resources may be limited at any particular time.\n```",
      "metadata": {}
    },
    {
      "id": "second-hydrogen",
      "cell_type": "markdown",
      "source": "## Running the Interactive Textbook Activities\n\nTo run interactive notebooks, from the top menu bar, clcik the rocket icon in the inteactive textbook toolbar at the top of the page and select the *Live Code* option.\n\nA connection will be made a live code execution environment and the environment started up:\n\n![](images/launch_thebe.gif)\n\nWhen the environment is ready, that status notice will change:\n\n![](images/thebe_ready.png)\n\nWhen the environment is enabled, each code cell in the interactive textbook will be \"activated\" and include a *Run* button. Clicking he *Run* button in a cell will execute the code in that cell.\n\n![](images/hello_world.gif)\n\nClicking *Restart* will reset the code execution environment. Following a restart, if a code cell requires an precursor code cell to have been run previously, you will need to make sure that cell is run again even if it was run prior to the restart.\n\n```{warning}\nThe contents of code cells may be edited, which means you can change the contents of a code cell and run your own code. However, there is currently no way to save any code changes you may make.\n```",
      "metadata": {}
    },
    {
      "id": "descending-domain",
      "cell_type": "markdown",
      "source": "## Launching the Live Jupyter Notebooks\n\nJupyter notebooks are a widely used environment for working with executable documents that incorporate text, rich media assets (images, videos, auto players), executable code and the outputs of executed code.\n\n\n```{note}\nSee the section [](using-jupyter-notebooks) if you are unfamiliar with how to work with Jupyter noteboks.\n```\n\nTo launch the live Jupyter notebook, click on the rocker button in the toolbar at the top of the interactive textbook page and select the *Binder* option.\n\n![](images/launch_binder.gif)\n\nThis will launch a MyBinder session and open a notebook equivalent of the current textbook page.\n\n![](images/mybinder_nb.png)\n\n```{warning}\nIf you edit the contents of the noteobok and you want to save them, you can either download the notebook or save it to browser storage ([*how to save notebooks to browser local storage*](https://github.com/manics/jupyter-offlinenotebook)).\n```",
      "metadata": {}
    }
  ]
}