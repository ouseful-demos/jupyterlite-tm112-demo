{
  "metadata": {
    "kernelspec": {
      "name": "xpython",
      "display_name": "Python 3.11 (XPython)",
      "language": "python"
    },
    "language_info": {
      "file_extension": ".py",
      "mimetype": "text/x-python",
      "name": "python",
      "version": "3.11.3"
    },
    "jupytext": {
      "formats": "ipynb,.md//md"
    }
  },
  "nbformat_minor": 5,
  "nbformat": 4,
  "cells": [
    {
      "id": "public-precipitation",
      "cell_type": "markdown",
      "source": "# Location Based Computing\n\nWelcome to these materials on location based computing.\n\nThe materials are currently presented in two main ways:\n\n- as live interactive Jupyter notebooks running using the Compute Home service, a local Docker container, or in your browser using JupyterLite;\n- as a static HTML Jupyter Book textbook generated from pre-run notebooks.",
      "metadata": {}
    }
  ]
}