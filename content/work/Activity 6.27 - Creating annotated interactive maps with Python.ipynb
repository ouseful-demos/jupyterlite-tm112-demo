{
  "metadata": {
    "kernelspec": {
      "name": "xpython",
      "display_name": "Python 3.11 (XPython)",
      "language": "python"
    },
    "language_info": {
      "file_extension": ".py",
      "mimetype": "text/x-python",
      "name": "python",
      "version": "3.11.3"
    },
    "jupytext": {
      "formats": "ipynb,.md//md"
    }
  },
  "nbformat_minor": 4,
  "nbformat": 4,
  "cells": [
    {
      "cell_type": "markdown",
      "source": "# Activity 6.27 - Creating annotated interactive maps with Python \n\nThis notebook demonstrates how to create a simple, interactive, embedded map using the Python `folium` package. You will also have an opportunity to create and save your own interactive map.\n\nThe package uses predefined templates to generate HTML and Javascript code to render the map using the Javascript `leaflet` library. The `ipython_folium_magic` magic is built on top of `folium`.",
      "metadata": {}
    },
    {
      "cell_type": "code",
      "source": "#Run this cell first to import the folium package to access the maps\nimport folium",
      "metadata": {
        "trusted": true
      },
      "outputs": [],
      "execution_count": 1
    },
    {
      "cell_type": "markdown",
      "source": "## Creating a Map of the OU Campus\nWe can create a `folium` map object by calling the `folium.Map()` function.\n\nThe map is centred on a particular location specified by using its latitude and longitude, using an optionally declared zoom level.\n\nAny output from the command on the last line of a cell will be displayed as the cells output.\n\nStating just a variable name returns the value of the object - in this case, an HTML page that implements our interactive map.",
      "metadata": {}
    },
    {
      "cell_type": "code",
      "source": "#Run this cell to create the map object\nmymap = folium.Map(location=[52.0236, -0.7088], zoom_start=15)\n\n#Display the map\nmymap",
      "metadata": {
        "trusted": true
      },
      "outputs": [
        {
          "execution_count": 2,
          "output_type": "execute_result",
          "data": {
            "text/html": "<div style=\"width:100%;\"><div style=\"position:relative;width:100%;height:0;padding-bottom:60%;\"><span style=\"color:#565656\">Make this Notebook Trusted to load map: File -> Trust Notebook</span><iframe srcdoc=\"&lt;!DOCTYPE html&gt;\n&lt;html&gt;\n&lt;head&gt;\n    \n    &lt;meta http-equiv=&quot;content-type&quot; content=&quot;text/html; charset=UTF-8&quot; /&gt;\n    \n        &lt;script&gt;\n            L_NO_TOUCH = false;\n            L_DISABLE_3D = false;\n        &lt;/script&gt;\n    \n    &lt;style&gt;html, body {width: 100%;height: 100%;margin: 0;padding: 0;}&lt;/style&gt;\n    &lt;style&gt;#map {position:absolute;top:0;bottom:0;right:0;left:0;}&lt;/style&gt;\n    &lt;script src=&quot;https://cdn.jsdelivr.net/npm/leaflet@1.9.3/dist/leaflet.js&quot;&gt;&lt;/script&gt;\n    &lt;script src=&quot;https://code.jquery.com/jquery-3.7.1.min.js&quot;&gt;&lt;/script&gt;\n    &lt;script src=&quot;https://cdn.jsdelivr.net/npm/bootstrap@5.2.2/dist/js/bootstrap.bundle.min.js&quot;&gt;&lt;/script&gt;\n    &lt;script src=&quot;https://cdnjs.cloudflare.com/ajax/libs/Leaflet.awesome-markers/2.0.2/leaflet.awesome-markers.js&quot;&gt;&lt;/script&gt;\n    &lt;link rel=&quot;stylesheet&quot; href=&quot;https://cdn.jsdelivr.net/npm/leaflet@1.9.3/dist/leaflet.css&quot;/&gt;\n    &lt;link rel=&quot;stylesheet&quot; href=&quot;https://cdn.jsdelivr.net/npm/bootstrap@5.2.2/dist/css/bootstrap.min.css&quot;/&gt;\n    &lt;link rel=&quot;stylesheet&quot; href=&quot;https://netdna.bootstrapcdn.com/bootstrap/3.0.0/css/bootstrap.min.css&quot;/&gt;\n    &lt;link rel=&quot;stylesheet&quot; href=&quot;https://cdn.jsdelivr.net/npm/@fortawesome/fontawesome-free@6.2.0/css/all.min.css&quot;/&gt;\n    &lt;link rel=&quot;stylesheet&quot; href=&quot;https://cdnjs.cloudflare.com/ajax/libs/Leaflet.awesome-markers/2.0.2/leaflet.awesome-markers.css&quot;/&gt;\n    &lt;link rel=&quot;stylesheet&quot; href=&quot;https://cdn.jsdelivr.net/gh/python-visualization/folium/folium/templates/leaflet.awesome.rotate.min.css&quot;/&gt;\n    \n            &lt;meta name=&quot;viewport&quot; content=&quot;width=device-width,\n                initial-scale=1.0, maximum-scale=1.0, user-scalable=no&quot; /&gt;\n            &lt;style&gt;\n                #map_06bd8cbe6f8679f8d296ee88d20ad750 {\n                    position: relative;\n                    width: 100.0%;\n                    height: 100.0%;\n                    left: 0.0%;\n                    top: 0.0%;\n                }\n                .leaflet-container { font-size: 1rem; }\n            &lt;/style&gt;\n        \n&lt;/head&gt;\n&lt;body&gt;\n    \n    \n            &lt;div class=&quot;folium-map&quot; id=&quot;map_06bd8cbe6f8679f8d296ee88d20ad750&quot; &gt;&lt;/div&gt;\n        \n&lt;/body&gt;\n&lt;script&gt;\n    \n    \n            var map_06bd8cbe6f8679f8d296ee88d20ad750 = L.map(\n                &quot;map_06bd8cbe6f8679f8d296ee88d20ad750&quot;,\n                {\n                    center: [52.0236, -0.7088],\n                    crs: L.CRS.EPSG3857,\n                    zoom: 15,\n                    zoomControl: true,\n                    preferCanvas: false,\n                }\n            );\n\n            \n\n        \n    \n            var tile_layer_6a4d600e430fc3a524105e821340a79f = L.tileLayer(\n                &quot;https://tile.openstreetmap.org/{z}/{x}/{y}.png&quot;,\n                {&quot;attribution&quot;: &quot;\\u0026copy; \\u003ca href=\\&quot;https://www.openstreetmap.org/copyright\\&quot;\\u003eOpenStreetMap\\u003c/a\\u003e contributors&quot;, &quot;detectRetina&quot;: false, &quot;maxNativeZoom&quot;: 19, &quot;maxZoom&quot;: 19, &quot;minZoom&quot;: 0, &quot;noWrap&quot;: false, &quot;opacity&quot;: 1, &quot;subdomains&quot;: &quot;abc&quot;, &quot;tms&quot;: false}\n            );\n        \n    \n            tile_layer_6a4d600e430fc3a524105e821340a79f.addTo(map_06bd8cbe6f8679f8d296ee88d20ad750);\n        \n&lt;/script&gt;\n&lt;/html&gt;\" style=\"position:absolute;width:100%;height:100%;left:0;top:0;border:none !important;\" allowfullscreen webkitallowfullscreen mozallowfullscreen></iframe></div></div>",
            "text/plain": "<folium.folium.Map at 0x47bb968>"
          },
          "metadata": {}
        }
      ],
      "execution_count": 2
    },
    {
      "cell_type": "markdown",
      "source": "### Dynamically Add Markers to the Map\n\nThe `folium.ClickForMarker()` function adds an interactive function to a map that allows you to click on the map at a particular location and add a marker to it.\n\nAdd the `folium.ClickForMarker()` function to the map and then add one or more markers to the map.  Click on a marker to display a popup containing the latitude and longitude of the location the marker is placed at.",
      "metadata": {}
    },
    {
      "cell_type": "code",
      "source": "#Add the ClickForMarker() functionality to the map\nfolium.ClickForMarker().add_to(mymap)\n\n#Display the map\nmymap",
      "metadata": {
        "trusted": true
      },
      "outputs": [
        {
          "execution_count": 3,
          "output_type": "execute_result",
          "data": {
            "text/html": "<div style=\"width:100%;\"><div style=\"position:relative;width:100%;height:0;padding-bottom:60%;\"><span style=\"color:#565656\">Make this Notebook Trusted to load map: File -> Trust Notebook</span><iframe srcdoc=\"&lt;!DOCTYPE html&gt;\n&lt;html&gt;\n&lt;head&gt;\n    \n    &lt;meta http-equiv=&quot;content-type&quot; content=&quot;text/html; charset=UTF-8&quot; /&gt;\n    \n        &lt;script&gt;\n            L_NO_TOUCH = false;\n            L_DISABLE_3D = false;\n        &lt;/script&gt;\n    \n    &lt;style&gt;html, body {width: 100%;height: 100%;margin: 0;padding: 0;}&lt;/style&gt;\n    &lt;style&gt;#map {position:absolute;top:0;bottom:0;right:0;left:0;}&lt;/style&gt;\n    &lt;script src=&quot;https://cdn.jsdelivr.net/npm/leaflet@1.9.3/dist/leaflet.js&quot;&gt;&lt;/script&gt;\n    &lt;script src=&quot;https://code.jquery.com/jquery-3.7.1.min.js&quot;&gt;&lt;/script&gt;\n    &lt;script src=&quot;https://cdn.jsdelivr.net/npm/bootstrap@5.2.2/dist/js/bootstrap.bundle.min.js&quot;&gt;&lt;/script&gt;\n    &lt;script src=&quot;https://cdnjs.cloudflare.com/ajax/libs/Leaflet.awesome-markers/2.0.2/leaflet.awesome-markers.js&quot;&gt;&lt;/script&gt;\n    &lt;link rel=&quot;stylesheet&quot; href=&quot;https://cdn.jsdelivr.net/npm/leaflet@1.9.3/dist/leaflet.css&quot;/&gt;\n    &lt;link rel=&quot;stylesheet&quot; href=&quot;https://cdn.jsdelivr.net/npm/bootstrap@5.2.2/dist/css/bootstrap.min.css&quot;/&gt;\n    &lt;link rel=&quot;stylesheet&quot; href=&quot;https://netdna.bootstrapcdn.com/bootstrap/3.0.0/css/bootstrap.min.css&quot;/&gt;\n    &lt;link rel=&quot;stylesheet&quot; href=&quot;https://cdn.jsdelivr.net/npm/@fortawesome/fontawesome-free@6.2.0/css/all.min.css&quot;/&gt;\n    &lt;link rel=&quot;stylesheet&quot; href=&quot;https://cdnjs.cloudflare.com/ajax/libs/Leaflet.awesome-markers/2.0.2/leaflet.awesome-markers.css&quot;/&gt;\n    &lt;link rel=&quot;stylesheet&quot; href=&quot;https://cdn.jsdelivr.net/gh/python-visualization/folium/folium/templates/leaflet.awesome.rotate.min.css&quot;/&gt;\n    \n            &lt;meta name=&quot;viewport&quot; content=&quot;width=device-width,\n                initial-scale=1.0, maximum-scale=1.0, user-scalable=no&quot; /&gt;\n            &lt;style&gt;\n                #map_06bd8cbe6f8679f8d296ee88d20ad750 {\n                    position: relative;\n                    width: 100.0%;\n                    height: 100.0%;\n                    left: 0.0%;\n                    top: 0.0%;\n                }\n                .leaflet-container { font-size: 1rem; }\n            &lt;/style&gt;\n        \n&lt;/head&gt;\n&lt;body&gt;\n    \n    \n            &lt;div class=&quot;folium-map&quot; id=&quot;map_06bd8cbe6f8679f8d296ee88d20ad750&quot; &gt;&lt;/div&gt;\n        \n&lt;/body&gt;\n&lt;script&gt;\n    \n    \n            var map_06bd8cbe6f8679f8d296ee88d20ad750 = L.map(\n                &quot;map_06bd8cbe6f8679f8d296ee88d20ad750&quot;,\n                {\n                    center: [52.0236, -0.7088],\n                    crs: L.CRS.EPSG3857,\n                    zoom: 15,\n                    zoomControl: true,\n                    preferCanvas: false,\n                }\n            );\n\n            \n\n        \n    \n            var tile_layer_6a4d600e430fc3a524105e821340a79f = L.tileLayer(\n                &quot;https://tile.openstreetmap.org/{z}/{x}/{y}.png&quot;,\n                {&quot;attribution&quot;: &quot;\\u0026copy; \\u003ca href=\\&quot;https://www.openstreetmap.org/copyright\\&quot;\\u003eOpenStreetMap\\u003c/a\\u003e contributors&quot;, &quot;detectRetina&quot;: false, &quot;maxNativeZoom&quot;: 19, &quot;maxZoom&quot;: 19, &quot;minZoom&quot;: 0, &quot;noWrap&quot;: false, &quot;opacity&quot;: 1, &quot;subdomains&quot;: &quot;abc&quot;, &quot;tms&quot;: false}\n            );\n        \n    \n            tile_layer_6a4d600e430fc3a524105e821340a79f.addTo(map_06bd8cbe6f8679f8d296ee88d20ad750);\n        \n    \n            tile_layer_6a4d600e430fc3a524105e821340a79f.addTo(map_06bd8cbe6f8679f8d296ee88d20ad750);\n        \n    \n                function newMarker(e){\n                    var new_mark = L.marker().setLatLng(e.latlng).addTo(map_06bd8cbe6f8679f8d296ee88d20ad750);\n                    new_mark.dragging.enable();\n                    new_mark.on(&#x27;dblclick&#x27;, function(e){ map_06bd8cbe6f8679f8d296ee88d20ad750.removeLayer(e.target)})\n                    var lat = e.latlng.lat.toFixed(4),\n                       lng = e.latlng.lng.toFixed(4);\n                    new_mark.bindPopup(&quot;Latitude: &quot; + lat + &quot;&lt;br&gt;Longitude: &quot; + lng );\n                    };\n                map_06bd8cbe6f8679f8d296ee88d20ad750.on(&#x27;click&#x27;, newMarker);\n            \n&lt;/script&gt;\n&lt;/html&gt;\" style=\"position:absolute;width:100%;height:100%;left:0;top:0;border:none !important;\" allowfullscreen webkitallowfullscreen mozallowfullscreen></iframe></div></div>",
            "text/plain": "<folium.folium.Map at 0x47bb968>"
          },
          "metadata": {}
        }
      ],
      "execution_count": 3
    },
    {
      "cell_type": "markdown",
      "source": "You can save a copy of the HTML file that implements the map using the `folium` map object's `.save('MY_MAP_FILENAME.html')` method.",
      "metadata": {}
    },
    {
      "cell_type": "code",
      "source": "mymap.save('OUcampusMap.html')",
      "metadata": {
        "trusted": true
      },
      "outputs": [],
      "execution_count": 4
    },
    {
      "cell_type": "markdown",
      "source": "Look at the directory this notebook is in - you should see the newly created `OUcampusMap.html` file there.\n\nYou can also view the file in your browser: [OUcampusMap.html](OUcampusMap.html).\n\nOne thing you may notice is that the markers you added to the map do not appear in the *saved* version of the map. This is because they are added to the interactive `Leaflet (Javascript)` map object, *not* your `folium` map object.\n\nSo how can we add more permanent markers to the map?",
      "metadata": {}
    },
    {
      "cell_type": "markdown",
      "source": "### Programmatically Add Markers to the Folium Map Object\n\nThe `folium.Marker()` method creates a marker object with a particular location and popup label that can then be added to your `folium` map object.",
      "metadata": {}
    },
    {
      "cell_type": "code",
      "source": "#Run this cell to add the markers to the map object...\nfolium.Marker([52.0239, -0.7072], popup='OU Library').add_to(mymap)\nfolium.Marker([52.0242, -0.7112], popup='Jennie Lee Building').add_to(mymap)\n\n#Save the map\nmymap.save('OUcampusMap-annotated.html')\n\n#...and display the map in the notebook\nmymap",
      "metadata": {
        "trusted": true
      },
      "outputs": [
        {
          "execution_count": 5,
          "output_type": "execute_result",
          "data": {
            "text/html": "<div style=\"width:100%;\"><div style=\"position:relative;width:100%;height:0;padding-bottom:60%;\"><span style=\"color:#565656\">Make this Notebook Trusted to load map: File -> Trust Notebook</span><iframe srcdoc=\"&lt;!DOCTYPE html&gt;\n&lt;html&gt;\n&lt;head&gt;\n    \n    &lt;meta http-equiv=&quot;content-type&quot; content=&quot;text/html; charset=UTF-8&quot; /&gt;\n    \n        &lt;script&gt;\n            L_NO_TOUCH = false;\n            L_DISABLE_3D = false;\n        &lt;/script&gt;\n    \n    &lt;style&gt;html, body {width: 100%;height: 100%;margin: 0;padding: 0;}&lt;/style&gt;\n    &lt;style&gt;#map {position:absolute;top:0;bottom:0;right:0;left:0;}&lt;/style&gt;\n    &lt;script src=&quot;https://cdn.jsdelivr.net/npm/leaflet@1.9.3/dist/leaflet.js&quot;&gt;&lt;/script&gt;\n    &lt;script src=&quot;https://code.jquery.com/jquery-3.7.1.min.js&quot;&gt;&lt;/script&gt;\n    &lt;script src=&quot;https://cdn.jsdelivr.net/npm/bootstrap@5.2.2/dist/js/bootstrap.bundle.min.js&quot;&gt;&lt;/script&gt;\n    &lt;script src=&quot;https://cdnjs.cloudflare.com/ajax/libs/Leaflet.awesome-markers/2.0.2/leaflet.awesome-markers.js&quot;&gt;&lt;/script&gt;\n    &lt;link rel=&quot;stylesheet&quot; href=&quot;https://cdn.jsdelivr.net/npm/leaflet@1.9.3/dist/leaflet.css&quot;/&gt;\n    &lt;link rel=&quot;stylesheet&quot; href=&quot;https://cdn.jsdelivr.net/npm/bootstrap@5.2.2/dist/css/bootstrap.min.css&quot;/&gt;\n    &lt;link rel=&quot;stylesheet&quot; href=&quot;https://netdna.bootstrapcdn.com/bootstrap/3.0.0/css/bootstrap.min.css&quot;/&gt;\n    &lt;link rel=&quot;stylesheet&quot; href=&quot;https://cdn.jsdelivr.net/npm/@fortawesome/fontawesome-free@6.2.0/css/all.min.css&quot;/&gt;\n    &lt;link rel=&quot;stylesheet&quot; href=&quot;https://cdnjs.cloudflare.com/ajax/libs/Leaflet.awesome-markers/2.0.2/leaflet.awesome-markers.css&quot;/&gt;\n    &lt;link rel=&quot;stylesheet&quot; href=&quot;https://cdn.jsdelivr.net/gh/python-visualization/folium/folium/templates/leaflet.awesome.rotate.min.css&quot;/&gt;\n    \n            &lt;meta name=&quot;viewport&quot; content=&quot;width=device-width,\n                initial-scale=1.0, maximum-scale=1.0, user-scalable=no&quot; /&gt;\n            &lt;style&gt;\n                #map_06bd8cbe6f8679f8d296ee88d20ad750 {\n                    position: relative;\n                    width: 100.0%;\n                    height: 100.0%;\n                    left: 0.0%;\n                    top: 0.0%;\n                }\n                .leaflet-container { font-size: 1rem; }\n            &lt;/style&gt;\n        \n&lt;/head&gt;\n&lt;body&gt;\n    \n    \n            &lt;div class=&quot;folium-map&quot; id=&quot;map_06bd8cbe6f8679f8d296ee88d20ad750&quot; &gt;&lt;/div&gt;\n        \n&lt;/body&gt;\n&lt;script&gt;\n    \n    \n            var map_06bd8cbe6f8679f8d296ee88d20ad750 = L.map(\n                &quot;map_06bd8cbe6f8679f8d296ee88d20ad750&quot;,\n                {\n                    center: [52.0236, -0.7088],\n                    crs: L.CRS.EPSG3857,\n                    zoom: 15,\n                    zoomControl: true,\n                    preferCanvas: false,\n                }\n            );\n\n            \n\n        \n    \n            var tile_layer_6a4d600e430fc3a524105e821340a79f = L.tileLayer(\n                &quot;https://tile.openstreetmap.org/{z}/{x}/{y}.png&quot;,\n                {&quot;attribution&quot;: &quot;\\u0026copy; \\u003ca href=\\&quot;https://www.openstreetmap.org/copyright\\&quot;\\u003eOpenStreetMap\\u003c/a\\u003e contributors&quot;, &quot;detectRetina&quot;: false, &quot;maxNativeZoom&quot;: 19, &quot;maxZoom&quot;: 19, &quot;minZoom&quot;: 0, &quot;noWrap&quot;: false, &quot;opacity&quot;: 1, &quot;subdomains&quot;: &quot;abc&quot;, &quot;tms&quot;: false}\n            );\n        \n    \n            tile_layer_6a4d600e430fc3a524105e821340a79f.addTo(map_06bd8cbe6f8679f8d296ee88d20ad750);\n        \n    \n            tile_layer_6a4d600e430fc3a524105e821340a79f.addTo(map_06bd8cbe6f8679f8d296ee88d20ad750);\n        \n    \n                function newMarker(e){\n                    var new_mark = L.marker().setLatLng(e.latlng).addTo(map_06bd8cbe6f8679f8d296ee88d20ad750);\n                    new_mark.dragging.enable();\n                    new_mark.on(&#x27;dblclick&#x27;, function(e){ map_06bd8cbe6f8679f8d296ee88d20ad750.removeLayer(e.target)})\n                    var lat = e.latlng.lat.toFixed(4),\n                       lng = e.latlng.lng.toFixed(4);\n                    new_mark.bindPopup(&quot;Latitude: &quot; + lat + &quot;&lt;br&gt;Longitude: &quot; + lng );\n                    };\n                map_06bd8cbe6f8679f8d296ee88d20ad750.on(&#x27;click&#x27;, newMarker);\n            \n    \n            tile_layer_6a4d600e430fc3a524105e821340a79f.addTo(map_06bd8cbe6f8679f8d296ee88d20ad750);\n        \n    \n            tile_layer_6a4d600e430fc3a524105e821340a79f.addTo(map_06bd8cbe6f8679f8d296ee88d20ad750);\n        \n    \n            var marker_f9541b3ebdbb6cb83584aed4912da044 = L.marker(\n                [52.0239, -0.7072],\n                {}\n            ).addTo(map_06bd8cbe6f8679f8d296ee88d20ad750);\n        \n    \n        var popup_088c4e3bb9e15b5aa4198ecc396bfb63 = L.popup({&quot;maxWidth&quot;: &quot;100%&quot;});\n\n        \n            \n                var html_2a611a123da9a3074779d4361e28c410 = $(`&lt;div id=&quot;html_2a611a123da9a3074779d4361e28c410&quot; style=&quot;width: 100.0%; height: 100.0%;&quot;&gt;OU Library&lt;/div&gt;`)[0];\n                popup_088c4e3bb9e15b5aa4198ecc396bfb63.setContent(html_2a611a123da9a3074779d4361e28c410);\n            \n        \n\n        marker_f9541b3ebdbb6cb83584aed4912da044.bindPopup(popup_088c4e3bb9e15b5aa4198ecc396bfb63)\n        ;\n\n        \n    \n    \n            var marker_195c84aa4c560b22d2e34784a4a4ceaf = L.marker(\n                [52.0242, -0.7112],\n                {}\n            ).addTo(map_06bd8cbe6f8679f8d296ee88d20ad750);\n        \n    \n        var popup_827c61f7064bb61d97b42de6fc1d1051 = L.popup({&quot;maxWidth&quot;: &quot;100%&quot;});\n\n        \n            \n                var html_5bea6e558cebdae941cfc0799ae51828 = $(`&lt;div id=&quot;html_5bea6e558cebdae941cfc0799ae51828&quot; style=&quot;width: 100.0%; height: 100.0%;&quot;&gt;Jennie Lee Building&lt;/div&gt;`)[0];\n                popup_827c61f7064bb61d97b42de6fc1d1051.setContent(html_5bea6e558cebdae941cfc0799ae51828);\n            \n        \n\n        marker_195c84aa4c560b22d2e34784a4a4ceaf.bindPopup(popup_827c61f7064bb61d97b42de6fc1d1051)\n        ;\n\n        \n    \n    \n            tile_layer_6a4d600e430fc3a524105e821340a79f.addTo(map_06bd8cbe6f8679f8d296ee88d20ad750);\n        \n&lt;/script&gt;\n&lt;/html&gt;\" style=\"position:absolute;width:100%;height:100%;left:0;top:0;border:none !important;\" allowfullscreen webkitallowfullscreen mozallowfullscreen></iframe></div></div>",
            "text/plain": "<folium.folium.Map at 0x47bb968>"
          },
          "metadata": {}
        }
      ],
      "execution_count": 5
    },
    {
      "cell_type": "markdown",
      "source": "What happens if you view the HTML file in your browser now? The markers should be there: [OUcampusMap-annotated.html](OUcampusMap-annotated.html)",
      "metadata": {}
    },
    {
      "cell_type": "markdown",
      "source": "## Popping Up the Latitude and Longitude of a Location\n\nAs well as the `folium` `ClickForMarker()` tool, there is another function we can add to the map - `LatLngPopup()`.\n\nRather than placing a marker, this simply displays a popup revealing the latitude and longitude of the location clicked on.\n\nZoom in to a particular location on the map using the map's +/- options, dragging the map with your mouse cursor to recentre it and find the co-ordinates of two or three locations on it.",
      "metadata": {}
    },
    {
      "cell_type": "code",
      "source": "#Create a new map...\nmyNewMap=folium.Map()\n\n#...within which you can interactively display the latitude and longitude of clicked on locations\nfolium.LatLngPopup().add_to(myNewMap)\n\n#Display the map\nmyNewMap",
      "metadata": {
        "trusted": true
      },
      "outputs": [
        {
          "execution_count": 6,
          "output_type": "execute_result",
          "data": {
            "text/html": "<div style=\"width:100%;\"><div style=\"position:relative;width:100%;height:0;padding-bottom:60%;\"><span style=\"color:#565656\">Make this Notebook Trusted to load map: File -> Trust Notebook</span><iframe srcdoc=\"&lt;!DOCTYPE html&gt;\n&lt;html&gt;\n&lt;head&gt;\n    \n    &lt;meta http-equiv=&quot;content-type&quot; content=&quot;text/html; charset=UTF-8&quot; /&gt;\n    \n        &lt;script&gt;\n            L_NO_TOUCH = false;\n            L_DISABLE_3D = false;\n        &lt;/script&gt;\n    \n    &lt;style&gt;html, body {width: 100%;height: 100%;margin: 0;padding: 0;}&lt;/style&gt;\n    &lt;style&gt;#map {position:absolute;top:0;bottom:0;right:0;left:0;}&lt;/style&gt;\n    &lt;script src=&quot;https://cdn.jsdelivr.net/npm/leaflet@1.9.3/dist/leaflet.js&quot;&gt;&lt;/script&gt;\n    &lt;script src=&quot;https://code.jquery.com/jquery-3.7.1.min.js&quot;&gt;&lt;/script&gt;\n    &lt;script src=&quot;https://cdn.jsdelivr.net/npm/bootstrap@5.2.2/dist/js/bootstrap.bundle.min.js&quot;&gt;&lt;/script&gt;\n    &lt;script src=&quot;https://cdnjs.cloudflare.com/ajax/libs/Leaflet.awesome-markers/2.0.2/leaflet.awesome-markers.js&quot;&gt;&lt;/script&gt;\n    &lt;link rel=&quot;stylesheet&quot; href=&quot;https://cdn.jsdelivr.net/npm/leaflet@1.9.3/dist/leaflet.css&quot;/&gt;\n    &lt;link rel=&quot;stylesheet&quot; href=&quot;https://cdn.jsdelivr.net/npm/bootstrap@5.2.2/dist/css/bootstrap.min.css&quot;/&gt;\n    &lt;link rel=&quot;stylesheet&quot; href=&quot;https://netdna.bootstrapcdn.com/bootstrap/3.0.0/css/bootstrap.min.css&quot;/&gt;\n    &lt;link rel=&quot;stylesheet&quot; href=&quot;https://cdn.jsdelivr.net/npm/@fortawesome/fontawesome-free@6.2.0/css/all.min.css&quot;/&gt;\n    &lt;link rel=&quot;stylesheet&quot; href=&quot;https://cdnjs.cloudflare.com/ajax/libs/Leaflet.awesome-markers/2.0.2/leaflet.awesome-markers.css&quot;/&gt;\n    &lt;link rel=&quot;stylesheet&quot; href=&quot;https://cdn.jsdelivr.net/gh/python-visualization/folium/folium/templates/leaflet.awesome.rotate.min.css&quot;/&gt;\n    \n            &lt;meta name=&quot;viewport&quot; content=&quot;width=device-width,\n                initial-scale=1.0, maximum-scale=1.0, user-scalable=no&quot; /&gt;\n            &lt;style&gt;\n                #map_d8246130d343b99946eb7790b14d3e3e {\n                    position: relative;\n                    width: 100.0%;\n                    height: 100.0%;\n                    left: 0.0%;\n                    top: 0.0%;\n                }\n                .leaflet-container { font-size: 1rem; }\n            &lt;/style&gt;\n        \n&lt;/head&gt;\n&lt;body&gt;\n    \n    \n            &lt;div class=&quot;folium-map&quot; id=&quot;map_d8246130d343b99946eb7790b14d3e3e&quot; &gt;&lt;/div&gt;\n        \n&lt;/body&gt;\n&lt;script&gt;\n    \n    \n            var map_d8246130d343b99946eb7790b14d3e3e = L.map(\n                &quot;map_d8246130d343b99946eb7790b14d3e3e&quot;,\n                {\n                    center: [0.0, 0.0],\n                    crs: L.CRS.EPSG3857,\n                    zoom: 1,\n                    zoomControl: true,\n                    preferCanvas: false,\n                }\n            );\n\n            \n\n        \n    \n            var tile_layer_e0a29afca0f63f66c112be9d27c4769a = L.tileLayer(\n                &quot;https://tile.openstreetmap.org/{z}/{x}/{y}.png&quot;,\n                {&quot;attribution&quot;: &quot;\\u0026copy; \\u003ca href=\\&quot;https://www.openstreetmap.org/copyright\\&quot;\\u003eOpenStreetMap\\u003c/a\\u003e contributors&quot;, &quot;detectRetina&quot;: false, &quot;maxNativeZoom&quot;: 19, &quot;maxZoom&quot;: 19, &quot;minZoom&quot;: 0, &quot;noWrap&quot;: false, &quot;opacity&quot;: 1, &quot;subdomains&quot;: &quot;abc&quot;, &quot;tms&quot;: false}\n            );\n        \n    \n            tile_layer_e0a29afca0f63f66c112be9d27c4769a.addTo(map_d8246130d343b99946eb7790b14d3e3e);\n        \n    \n                var lat_lng_popup_68590f229e32dd8eb6d7702f6d2c9676 = L.popup();\n                function latLngPop(e) {\n                    lat_lng_popup_68590f229e32dd8eb6d7702f6d2c9676\n                        .setLatLng(e.latlng)\n                        .setContent(&quot;Latitude: &quot; + e.latlng.lat.toFixed(4) +\n                                    &quot;&lt;br&gt;Longitude: &quot; + e.latlng.lng.toFixed(4))\n                        .openOn(map_d8246130d343b99946eb7790b14d3e3e);\n                    }\n                map_d8246130d343b99946eb7790b14d3e3e.on(&#x27;click&#x27;, latLngPop);\n            \n&lt;/script&gt;\n&lt;/html&gt;\" style=\"position:absolute;width:100%;height:100%;left:0;top:0;border:none !important;\" allowfullscreen webkitallowfullscreen mozallowfullscreen></iframe></div></div>",
            "text/plain": "<folium.folium.Map at 0x7c586a8>"
          },
          "metadata": {}
        }
      ],
      "execution_count": 6
    },
    {
      "cell_type": "markdown",
      "source": "## Exercise\n\nUsing the recipe for creating a map and placing markers on it described above, create a map centred on your home location and two or three appropriately labelled markers identifying nearby points of interest.\n\nUse the `LatLngPopup()` tool to find any latitude and longitude co-ordinates you need.",
      "metadata": {
        "collapsed": true,
        "jupyter": {
          "outputs_hidden": true
        }
      }
    },
    {
      "cell_type": "code",
      "source": "#Create a map object, centred on your home, and at an appropriate zoom level\n",
      "metadata": {
        "trusted": true,
        "tags": [
          "style-student"
        ]
      },
      "outputs": [],
      "execution_count": 7
    },
    {
      "cell_type": "code",
      "source": "#Programmatically add two or three markers, with appropriate labels, locating nearby points of interest\n",
      "metadata": {
        "trusted": true,
        "tags": [
          "style-student"
        ]
      },
      "outputs": [],
      "execution_count": 8
    },
    {
      "cell_type": "code",
      "source": "#Render the map in the notebook\n",
      "metadata": {
        "trusted": true,
        "tags": [
          "style-student"
        ]
      },
      "outputs": [],
      "execution_count": 9
    },
    {
      "cell_type": "code",
      "source": "#Save the map - eg as myHomeMap.html\n",
      "metadata": {
        "trusted": true,
        "tags": [
          "style-student"
        ]
      },
      "outputs": [],
      "execution_count": 10
    },
    {
      "cell_type": "markdown",
      "source": "View the HTML version of your map directly in a new browser tab.\n\nIf you have the `LatLngPopup()` tool attached to your saved map, you may want to comment out where you added it and then recreate and save a version of the map without this click behavior added to it.",
      "metadata": {}
    },
    {
      "cell_type": "markdown",
      "source": "### Sharing Your Map\nIf you want to share your map, open the HTML file in a text editor, copy the HTML, and paste it into a gist at `https://gist.github.com` with the filename `index.html`. Save the gist as a *public* gist and in the URL replace the `gist.github.com` domain with `bl.ocks.org`. You should now be able to see your map published on the web.",
      "metadata": {}
    },
    {
      "cell_type": "markdown",
      "source": "## Summary\n\nIn this notebook, you have learned how to create a simple interactive map using the Python `folium` library and place markers on it.\n\nYou also learned how to fashion your own \"location co-ordinates lookup\" tool using the `folium LatLngPopup()` method.",
      "metadata": {}
    }
  ]
}