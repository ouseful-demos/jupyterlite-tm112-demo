{
  "metadata": {
    "kernelspec": {
      "name": "xpython",
      "display_name": "Python 3.11 (XPython)",
      "language": "python"
    },
    "language_info": {
      "file_extension": ".py",
      "mimetype": "text/x-python",
      "name": "python",
      "version": "3.11.3"
    },
    "jupytext": {
      "formats": "ipynb,.md//md"
    }
  },
  "nbformat_minor": 4,
  "nbformat": 4,
  "cells": [
    {
      "cell_type": "markdown",
      "source": "# Playing With `dict`s - Geolocation API Data\n\nIn this notebook, you will have a chance to explore how Python `dict`s can be used to represent hierarchically structured data.",
      "metadata": {}
    },
    {
      "cell_type": "markdown",
      "source": "Python `dict`s are *associative arrays* that use *key: value* pairs. Data *value*s are associated with a unique *key*s and retrieved by referencing the key you are interested in.\n\nIn a Python `dict`, the value associated with a particular key may itself be a `dict` structure, which gives us the notion of `nested dicts`.\n\nAlthough the data provided by the *postcodes.io* service is returned as a JSON data structure, it can be re-representd (*sic*) as a nested Python `dict`, as modeled below.",
      "metadata": {}
    },
    {
      "cell_type": "code",
      "source": "postcode_dict = {'result': {'admin_county': None,\n                            'admin_district': 'Milton Keynes',\n                            'admin_ward': 'Monkston',\n                            'ccg': 'NHS Milton Keynes',\n                            'codes': {'admin_county': 'E99999999',\n                                      'admin_district': 'E06000042',\n                                      'admin_ward': 'E05009415',\n                                      'ccg': 'E38000107',\n                                      'nuts': 'UKJ12',\n                                      'parish': 'E04001275'},\n                            'country': 'England',\n                            'eastings': 488625,\n                            'european_electoral_region': 'South East',\n                            'incode': '6AA',\n                            'latitude': 52.0249147315159,\n                            'longitude': -0.709747474196332,\n                            'lsoa': 'Milton Keynes 017C',\n                            'msoa': 'Milton Keynes 017',\n                            'nhs_ha': 'South Central',\n                            'northings': 237063,\n                            'nuts': 'Milton Keynes',\n                            'outcode': 'MK7',\n                            'parish': 'Walton',\n                            'parliamentary_constituency': 'Milton Keynes South',\n                            'postcode': 'MK7 6AA',\n                            'primary_care_trust': 'Milton Keynes',\n                            'quality': 1,\n                            'region': 'South East'},\n                 'status': 200}",
      "metadata": {
        "trusted": true
      },
      "outputs": [],
      "execution_count": 1
    },
    {
      "cell_type": "markdown",
      "source": "We can access the body of the result by calling the `dict` using the `result` key value:",
      "metadata": {}
    },
    {
      "cell_type": "code",
      "source": "#You can use single or double quotes when passing the key\npostcode_dict['result']",
      "metadata": {
        "trusted": true
      },
      "outputs": [
        {
          "execution_count": 2,
          "output_type": "execute_result",
          "data": {
            "text/plain": "{'admin_county': None,\n 'admin_district': 'Milton Keynes',\n 'admin_ward': 'Monkston',\n 'ccg': 'NHS Milton Keynes',\n 'codes': {'admin_county': 'E99999999',\n  'admin_district': 'E06000042',\n  'admin_ward': 'E05009415',\n  'ccg': 'E38000107',\n  'nuts': 'UKJ12',\n  'parish': 'E04001275'},\n 'country': 'England',\n 'eastings': 488625,\n 'european_electoral_region': 'South East',\n 'incode': '6AA',\n 'latitude': 52.0249147315159,\n 'longitude': -0.709747474196332,\n 'lsoa': 'Milton Keynes 017C',\n 'msoa': 'Milton Keynes 017',\n 'nhs_ha': 'South Central',\n 'northings': 237063,\n 'nuts': 'Milton Keynes',\n 'outcode': 'MK7',\n 'parish': 'Walton',\n 'parliamentary_constituency': 'Milton Keynes South',\n 'postcode': 'MK7 6AA',\n 'primary_care_trust': 'Milton Keynes',\n 'quality': 1,\n 'region': 'South East'}"
          },
          "metadata": {}
        }
      ],
      "execution_count": 2
    },
    {
      "cell_type": "code",
      "source": "#Keys can also be passed as string variables\nkey=\"result\"\n\npostcode_dict[ key ]",
      "metadata": {
        "trusted": true
      },
      "outputs": [
        {
          "execution_count": 3,
          "output_type": "execute_result",
          "data": {
            "text/plain": "{'admin_county': None,\n 'admin_district': 'Milton Keynes',\n 'admin_ward': 'Monkston',\n 'ccg': 'NHS Milton Keynes',\n 'codes': {'admin_county': 'E99999999',\n  'admin_district': 'E06000042',\n  'admin_ward': 'E05009415',\n  'ccg': 'E38000107',\n  'nuts': 'UKJ12',\n  'parish': 'E04001275'},\n 'country': 'England',\n 'eastings': 488625,\n 'european_electoral_region': 'South East',\n 'incode': '6AA',\n 'latitude': 52.0249147315159,\n 'longitude': -0.709747474196332,\n 'lsoa': 'Milton Keynes 017C',\n 'msoa': 'Milton Keynes 017',\n 'nhs_ha': 'South Central',\n 'northings': 237063,\n 'nuts': 'Milton Keynes',\n 'outcode': 'MK7',\n 'parish': 'Walton',\n 'parliamentary_constituency': 'Milton Keynes South',\n 'postcode': 'MK7 6AA',\n 'primary_care_trust': 'Milton Keynes',\n 'quality': 1,\n 'region': 'South East'}"
          },
          "metadata": {}
        }
      ],
      "execution_count": 3
    },
    {
      "cell_type": "markdown",
      "source": "You may notice that the value associated with the *\"result\"* key in the *postcode_dict* `dict` is another dict:",
      "metadata": {}
    },
    {
      "cell_type": "code",
      "source": "type( postcode_dict[ 'result' ] )",
      "metadata": {
        "trusted": true
      },
      "outputs": [
        {
          "execution_count": 4,
          "output_type": "execute_result",
          "data": {
            "text/plain": "dict"
          },
          "metadata": {}
        }
      ],
      "execution_count": 4
    },
    {
      "cell_type": "markdown",
      "source": "To find the values of nested elements in the original data structure, we request a key from the currently selected `dict`:",
      "metadata": {}
    },
    {
      "cell_type": "code",
      "source": "postcode_dict_result = postcode_dict[ 'result' ]\npostcode_dict_result['parliamentary_constituency']",
      "metadata": {
        "trusted": true
      },
      "outputs": [
        {
          "execution_count": 5,
          "output_type": "execute_result",
          "data": {
            "text/plain": "'Milton Keynes South'"
          },
          "metadata": {}
        }
      ],
      "execution_count": 5
    },
    {
      "cell_type": "markdown",
      "source": "#### Exercise\n\nTry to pull out the value of the *European electoral region* from the `postcode_dict` variable.",
      "metadata": {}
    },
    {
      "cell_type": "code",
      "source": "#And the European electoral region is....\n\n#YOUR CODE HERE",
      "metadata": {
        "trusted": true,
        "tags": [
          "style-student"
        ]
      },
      "outputs": [],
      "execution_count": 6
    },
    {
      "cell_type": "markdown",
      "source": "Which parish is the postcode associated with...?",
      "metadata": {}
    },
    {
      "cell_type": "code",
      "source": "#YOUR CODE HERE\n",
      "metadata": {
        "trusted": true,
        "tags": [
          "style-student"
        ]
      },
      "outputs": [],
      "execution_count": 7
    },
    {
      "cell_type": "markdown",
      "source": "...and what postcode does the data refer to?",
      "metadata": {}
    },
    {
      "cell_type": "code",
      "source": "#YOUR CODE HERE\n",
      "metadata": {
        "trusted": true,
        "tags": [
          "style-student"
        ]
      },
      "outputs": [],
      "execution_count": 8
    },
    {
      "cell_type": "markdown",
      "source": "### Referencing Deep into a Nested `dict`\n\nTo reference items in one `dict` nested inside another, we can \"chain\" together the keys for the nested `dict`s, one inside the other, defining a path that essentially walks through each `dict` in turn:",
      "metadata": {}
    },
    {
      "cell_type": "code",
      "source": "postcode_dict[ 'result' ][ 'parliamentary_constituency' ]",
      "metadata": {
        "trusted": true
      },
      "outputs": [
        {
          "execution_count": 9,
          "output_type": "execute_result",
          "data": {
            "text/plain": "'Milton Keynes South'"
          },
          "metadata": {}
        }
      ],
      "execution_count": 9
    },
    {
      "cell_type": "markdown",
      "source": "#### Exercise\n\nBy referencing directly into the `postcode_dict` variable, what CCG (Clinical Commissioning Group) is the location in?",
      "metadata": {}
    },
    {
      "cell_type": "code",
      "source": "#YOUR CODE HERE\n",
      "metadata": {
        "trusted": true,
        "tags": [
          "style-student"
        ]
      },
      "outputs": [],
      "execution_count": 10
    },
    {
      "cell_type": "markdown",
      "source": "What *code* does this CCG have? (Again, your answer should reference directly into the `postcode_dict` variable.)",
      "metadata": {}
    },
    {
      "cell_type": "code",
      "source": "#YOUR CODE HERE\n",
      "metadata": {
        "trusted": true,
        "tags": [
          "style-student"
        ]
      },
      "outputs": [],
      "execution_count": 11
    },
    {
      "cell_type": "markdown",
      "source": "## Unique Keys In Nested `dict`s\nIn the sense that a `nested dict` is itself a `dict`, the unique key to a deeply nested element is then the complete path to the element. For example, when finding the Parliamentary Constituency in the result returned from the *postcodes.io* data, the unique key on the `postcode_dict` `dict` would be `[ 'result' ][ 'parliamentary_constituency' ]`.\n\nSometimes, you might notice that the same key may appear multiple times in a nested Python `dict`. This does not break the requirement that keys are unique, because the keys are each keys in a *different* parent `dict`.\n\nFor example, consider the data we might get back from a request made on the Google geolocation API: ",
      "metadata": {}
    },
    {
      "cell_type": "code",
      "source": "postcode_dict2 = {'results': [{'address_components': [{'long_name': 'Walton Hall',\n                                                       'short_name': 'Walton Hall',\n                                                       'types': ['establishment', 'point_of_interest']},\n                                                      {'long_name': 'Kents Hill',\n                                                       'short_name': 'Kents Hill',\n                                                       'types': ['locality', 'political']},\n                                                      {'long_name': 'Milton Keynes',\n                                                       'short_name': 'Milton Keynes',\n                                                       'types': ['postal_town']},\n                                                      {'long_name': 'Milton Keynes',\n                                                       'short_name': 'Milton Keynes',\n                                                       'types': ['administrative_area_level_2', 'political']},\n                                                      {'long_name': 'England',\n                                                       'short_name': 'England',\n                                                       'types': ['administrative_area_level_1', 'political']},\n                                                      {'long_name': 'United Kingdom',\n                                                       'short_name': 'GB',\n                                                       'types': ['country', 'political']},\n                                                      {'long_name': 'MK7 6BH',\n                                                       'short_name': 'MK7 6BH',\n                                                       'types': ['postal_code']}],\n                               'formatted_address': 'Walton Hall, Kents Hill, Milton Keynes MK7 6BH, UK',\n                               'geometry': {'location': {'lat': 52.02462269999999, 'lng': -0.7107079},\n                                            'location_type': 'APPROXIMATE',\n                                            'viewport': {'northeast': {'lat': 52.02597168029149,\n                                                                       'lng': -0.709358919708498},\n                                                         'southwest': {'lat': 52.02327371970849,\n                                                                       'lng': -0.712056880291502}}},\n                               'place_id': 'ChIJW3FMFVuhd0gRVUSpS2HG-ps',\n                               'types': ['establishment', 'point_of_interest']}],\n                  'status': 'OK'}",
      "metadata": {
        "trusted": true
      },
      "outputs": [],
      "execution_count": 12
    },
    {
      "cell_type": "markdown",
      "source": "Here, we see that there are several instances of `lat` and `lng` keys. The important thing to note is that the *path* to each of them is different:",
      "metadata": {}
    },
    {
      "cell_type": "code",
      "source": "print(postcode_dict2['results'][0]['geometry']['location']['lat'],\n      postcode_dict2['results'][0]['geometry']['viewport']['northeast']['lat'],\n      postcode_dict2['results'][0]['geometry']['viewport']['southwest']['lat'],\n      sep='\\n')",
      "metadata": {
        "trusted": true
      },
      "outputs": [
        {
          "name": "stdout",
          "text": "52.02462269999999\n52.02597168029149\n52.02327371970849\n",
          "output_type": "stream"
        }
      ],
      "execution_count": 13
    },
    {
      "cell_type": "markdown",
      "source": "Also note that we used a numerical index - `[0]` - to access the first (zero-indexed) `dict` in the Python `list` typed value associated with the `results` key in the original `postcode_dict2` `dict`.",
      "metadata": {}
    },
    {
      "cell_type": "code",
      "source": "type(postcode_dict2['results'])",
      "metadata": {
        "trusted": true
      },
      "outputs": [
        {
          "execution_count": 14,
          "output_type": "execute_result",
          "data": {
            "text/plain": "list"
          },
          "metadata": {}
        }
      ],
      "execution_count": 14
    },
    {
      "cell_type": "markdown",
      "source": "So what is it that makes the various `lat` keys unique? The answer is that they uniquely reference a different parent `dict` in each case:",
      "metadata": {}
    },
    {
      "cell_type": "code",
      "source": "print(postcode_dict2['results'][0]['geometry']['location'], \n      postcode_dict2['results'][0]['geometry']['viewport']['northeast'],\n      postcode_dict2['results'][0]['geometry']['viewport']['southwest'],\n      sep='\\n')",
      "metadata": {
        "trusted": true
      },
      "outputs": [
        {
          "name": "stdout",
          "text": "{'lat': 52.02462269999999, 'lng': -0.7107079}\n{'lat': 52.02597168029149, 'lng': -0.709358919708498}\n{'lat': 52.02327371970849, 'lng': -0.712056880291502}\n",
          "output_type": "stream"
        }
      ],
      "execution_count": 15
    }
  ]
}