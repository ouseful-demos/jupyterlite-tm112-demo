{
  "metadata": {
    "kernelspec": {
      "name": "xpython",
      "display_name": "Python 3.11 (XPython)",
      "language": "python"
    },
    "language_info": {
      "file_extension": ".py",
      "mimetype": "text/x-python",
      "name": "python",
      "version": "3.11.3"
    },
    "jupytext": {
      "formats": "ipynb,.md//md"
    }
  },
  "nbformat_minor": 4,
  "nbformat": 4,
  "cells": [
    {
      "cell_type": "markdown",
      "source": "<a name=\"cellTowers\"></a>\n# Activity 6.16 - Cell Tower Lookup\n\nOnline web applications such as [OpenCelliD](https://www.opencellid.org/) allow users to enter uniquely identifying information for a cell tower and in return display the location of the corresponding cell tower on an interactive map.\n\nFor example, use the above service to identify the location of the cell tower with details:\n\n- MCC: 234\n- MNC: 15\n- LAC: 24708\n- CID: 2561566\n\nServices such as OpenCellID typically obtain the location data by calling a remote geolocation web service via an Application Programming Interface (API). With access to such an API, we can create our own equivalent service.\n\nIn this activity you will see how to call the API services *in principle*, if not in fact.",
      "metadata": {
        "collapsed": true,
        "jupyter": {
          "outputs_hidden": true
        }
      }
    },
    {
      "cell_type": "markdown",
      "source": "### Walk-through of How to Call the API\n\nIf you use your browser developer tools to monitor your browser's network activity as you lookup a cell tower ID using the OpenCellID webservice, you might notice a request is made to a webservice that is used to lookup the location of the cell tower :\n\n![OpenCellID website - API call for cell tower geolocation from cell tower identifying data](images/OpenCelliD_api_call.png)\n\nThe request URL has the form:\n\n`https://opencellid.org/ajax/searchCell.php?mcc=234&mnc=15&lac=24708&cell_id=2561566`\n\nThe location information is then used by calls to other services that can render the map, along with the location of cell towers in that general area.",
      "metadata": {},
      "attachments": {}
    },
    {
      "cell_type": "markdown",
      "source": "The following walk through demonstrates the steps used to make a request to that API.\n\n*Note that the following activity cannot be guaranteed to work. Webservices and APIs often use cookies and other techniques to block requests that are not made by an authorised user from an appropriate client (such as a web browser).*",
      "metadata": {}
    },
    {
      "cell_type": "markdown",
      "source": "To call the API, or look up a cell tower location using a third party web app with its own API access, we need four pieces of data:\n\n- the network operator mobile country code (MCC): for example, the UK MCC code is 234\n- the mobile network code (MNC): for example, the Vodafone UK MNC is 15\n- the cell tower location area code (LAC): for example, 24708\n- the cell tower cell ID (CellID): for example, 2561566\n\nTo call the service, we construct a URL as defined for a particular API and make a request to that URL using the *python* `requests` package.",
      "metadata": {}
    },
    {
      "cell_type": "code",
      "source": "#The requests library makes it easy to call URLs using Python\nimport requests",
      "metadata": {
        "trusted": true
      },
      "outputs": [],
      "execution_count": null
    },
    {
      "cell_type": "markdown",
      "source": "To pass the data to the API, we need to create a Python `dict` that describes the data in a formally structured way:",
      "metadata": {}
    },
    {
      "cell_type": "code",
      "source": "params = {\"mcc\": 234, #mobileCountryCode\n          \"mnc\": 15, #mobileNetworkCode\n          \"lac\": 24708, #locationAreaCode\n          \"cell_id\": 2561566 #CellId\n         }\n\nparams",
      "metadata": {
        "trusted": true
      },
      "outputs": [],
      "execution_count": null
    },
    {
      "cell_type": "markdown",
      "source": "This parameter data is passed, as part of an HTTP/POST request, to the API endpoint URL using the `requests` package.\n\nThe `requests` package also allows us parse any valid response as a JSON object and cast it to a Python dictionary:",
      "metadata": {}
    },
    {
      "cell_type": "code",
      "source": "import requests\n\n#The API request may not be satisfied in a JupyterLite environment\ntry:\n    #Set the url to the appropriate API endpoint location\n    url = \"https://opencellid.org/ajax/searchCell.php\"\n    \n    r = requests.get(url, params=params)\n    if not r.ok:\n        # display the response if something went wrong...\n        print('Error: '+r.text)\n        \n    # Display the response\n    response_data = r.json()\nexcept:\n    # So provide some dummy data\n    print(\"Using dummy response data...\")\n    response_data = {'lon': '-1.145837', 'lat': '50.657593', 'range': '1000'}\n    \nresponse_data",
      "metadata": {
        "trusted": true
      },
      "outputs": [],
      "execution_count": null
    },
    {
      "cell_type": "markdown",
      "source": "A typical response looks something like this:\n\n```json\n{'lon': '-1.145837', 'lat': '50.657593', 'range': '1000'}\n ```\n\nIf the location of the devices with the specified MAC addresses are known, a location is determined and returned .\n\nThe latitude / longitude pair can then be used to identify the approximate location on a map.\n\nFor example, let's extract out the latitude and longitude into some correspondingly named variables:",
      "metadata": {}
    },
    {
      "cell_type": "code",
      "source": "lon = response_data[\"lon\"]\nlat = response_data[\"lat\"]\n\n# The values are parsed as strings\nlon, lat",
      "metadata": {
        "trusted": true
      },
      "outputs": [],
      "execution_count": null
    },
    {
      "cell_type": "markdown",
      "source": "## So Where is That Location Exactly?\n\nArmed with the latitude and longitude of a location, we can use those co-ordinates to place a marker on a map to reveal that location in more human understandable terms.\n\nA quick way of doing that is to use some magic, literally, using some IPython magic known as `ipython_folium_magic` [[docs](https://github.com/psychemedia/ipython_magic_folium)]...\n\nThe following code cell loads in some IPython magic that supports the creation of embedded Google Maps in a Jupyter notebook. This cell only needs to be run once in any given notebook. Typically, magics are loaded at the start of a notebook, along with required Python packages. ",
      "metadata": {}
    },
    {
      "cell_type": "code",
      "source": "%load_ext folium_magic",
      "metadata": {
        "trusted": true
      },
      "outputs": [],
      "execution_count": null
    },
    {
      "cell_type": "markdown",
      "source": "Now we can call on the magic as `%folium_map`. The `-l` parameter lets us pass in comma separated latitude and longitude (no spaces between them) and the `-m` parameter lets us create a marker by passing in a comma separated latitude, longitude and marker label (the latter in quotes). The `-z` parameter sets the zoom level (by default it is set to 10).\n\nAs well as using literal values, we can pass in values referenced via a variable we have already defined by prefixing the variable name with a `$`.\n\nSo for example, the following are all valid `folium_magic` commands. \n\n- `%folium_map -l 52.0370037,-0.7098603`\n- `%folium_map -l $lat,$lon -z 14` (referencing the `lat` and `lon` variables defined above and increasing the zoom level)\n- `%folium_map -m 52.0370037,-0.7098603,\"My Marker\"`",
      "metadata": {}
    },
    {
      "cell_type": "code",
      "source": "# The folium_map magic will attempt to convert \n# lat/lon string values to numeric float values\n%folium_map -m $lat,$lon -z 14",
      "metadata": {
        "trusted": true
      },
      "outputs": [],
      "execution_count": null
    },
    {
      "cell_type": "markdown",
      "source": "## Try it Yourself\n\nModify the `params` definition above to use following cell tower data:\n\n- MCC: 234\n- MNC: 10\n- LAC: 1120\n- CID: 133246578\n\nWhere is the cell tower located?",
      "metadata": {}
    }
  ]
}