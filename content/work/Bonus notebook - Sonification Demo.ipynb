{
  "metadata": {
    "kernelspec": {
      "name": "xpython",
      "display_name": "Python 3.11 (XPython)",
      "language": "python"
    },
    "language_info": {
      "file_extension": ".py",
      "mimetype": "text/x-python",
      "name": "python",
      "version": "3.11.3"
    }
  },
  "nbformat_minor": 4,
  "nbformat": 4,
  "cells": [
    {
      "cell_type": "markdown",
      "source": "# Sonification Demo\n\nThis notebook demonstrates how to \"sonify\" a simple data set, converting the data to an audio form to help us try to perceive patterns within that data.",
      "metadata": {}
    },
    {
      "cell_type": "markdown",
      "source": "The notebook makes use of the python *pandas* package to represent and *visualise* a dataset, as well as packages associated with the Jupyter notebook environment that support the audio playback as well as the embedding of interactive widgets that allow us to explore a dataset interactively.",
      "metadata": {}
    },
    {
      "cell_type": "markdown",
      "source": "## Setting Up the Notebook\n\nRun the following code cells to set up the notebook environment.",
      "metadata": {}
    },
    {
      "cell_type": "code",
      "source": "#IPython package for embedding an audio player in a notebook\nfrom IPython.display import Audio\n\n#The ipwidgets.interact package supports interactive widget creation\nfrom ipywidgets import interact\n\n#Configure the notebook to display charts inline\n%matplotlib inline\n\n#Import a routine to plot simple datasets\nfrom matplotlib.pyplot import plot",
      "metadata": {
        "trusted": true
      },
      "outputs": [],
      "execution_count": null
    },
    {
      "cell_type": "code",
      "source": "#Import the pandas package for working with tabular datasets\nimport pandas as pd\n\n#Various packages that provide access to maths functions\nimport random\nimport numpy as np\nimport math",
      "metadata": {
        "trusted": true
      },
      "outputs": [],
      "execution_count": null
    },
    {
      "cell_type": "markdown",
      "source": "## Working With Audio\n\nThe following examples are based on a [sonification notebook](https://jupyter.brynmawr.edu/services/public/dblank/jupyter.cs/Sonification.ipynb) published by Doug Blank at Bryn Mawr College.\n\nLet's start with a simple demonstration of how to create and play a simple tone (a sine wave). You do not need to understand how the code works in order to run the code cell.\n\nIf you want the audio player to play the tone automatically when the code cell is run, change the setting from `autoplay=False` to `autoplay=True`.\n\n__Run the code cells below now.__",
      "metadata": {}
    },
    {
      "cell_type": "code",
      "source": "duration = 2 # duration of the tone in seconds\nrate = 44100 # sampling rate of the tone",
      "metadata": {
        "trusted": true
      },
      "outputs": [],
      "execution_count": null
    },
    {
      "cell_type": "code",
      "source": "#https://jupyter.brynmawr.edu/services/public/dblank/jupyter.cs/Sonification.ipynb\n#This rather complicated looking function creates a function\n#It allows us to retrieve the value of a sine wave of a particular frequency at a particular time.\n#The frequency is the frequency of the tone in hertz (hz)\ndef make_tone(frequency):\n    def f(t):\n        return math.sin(2 * math.pi * frequency * t)\n    return f\n\ntone440 = make_tone(440) \n\n#Visualise the tone over a short period (0.1s)\nplot([tone440(t) for t in np.arange(0, .01, 1/rate)]);\n\n#Generate the tone and play it through a notebook embedded audio player\nAudio([tone440(t) for t in np.arange(0, duration, 1/rate)], rate=rate, autoplay=False)",
      "metadata": {
        "scrolled": true,
        "trusted": true
      },
      "outputs": [],
      "execution_count": null
    },
    {
      "cell_type": "markdown",
      "source": "## Sonifying Data\n\nAs well as playing simple tones, we can also generate audio signals of varying frequencies based on data values contained within a dataset.\n\nWe will create a couple of helper functions to generate an \"audio\" dataset from a ",
      "metadata": {}
    },
    {
      "cell_type": "code",
      "source": "# Function to find the value of a sine wave of a given frequency at a particular time\ndef make_tone2(t, frequency):\n    return math.sin(2 * math.pi * frequency * t)",
      "metadata": {
        "trusted": true
      },
      "outputs": [],
      "execution_count": null
    },
    {
      "cell_type": "code",
      "source": "#Grab a list of frequency values from a dataset for playback over a given period at a given sampling rate\ndef makeAudio(data, duration, rate, minf=200, maxf=5000):\n    audiodata=[]\n    for t in np.arange(0, duration, 1/rate):\n        data_index = math.floor(t/duration * len(data))\n        ratio = (data[data_index] - min(data))/(max(data) - min(data))            \n        audiodata.append(make_tone2(t, ratio * (maxf - minf) + minf)) \n    return audiodata",
      "metadata": {
        "trusted": true
      },
      "outputs": [],
      "execution_count": null
    },
    {
      "cell_type": "markdown",
      "source": "The `makeAudio()` function may take some time to run, so it makes sense to provide a means for saving and loading the data. ",
      "metadata": {}
    },
    {
      "cell_type": "code",
      "source": "def saveAudioData(data, outfile = \"audiodata.txt\"):\n    ''' Function to save the audiodata list'''\n    with open(outfile, \"w\") as f:\n        for s in data:\n            f.write(str(s) +\"\\n\")\n\ndef loadAudioData(infile = \"audiodata.txt\"):\n    readback = []\n    with open(infile, \"r\") as f:\n        for line in f:\n            readback.append(line.strip())\n    return readback",
      "metadata": {
        "trusted": true
      },
      "outputs": [],
      "execution_count": null
    },
    {
      "cell_type": "markdown",
      "source": "## Now It's Time to Sonify\n\nGenerate a sample dataset with several columns, each representing a set frequencies over time:\n\n- a set of values that increase proportionally (linearly) over time;\n- a set of values that decrease proportionally (linearly) over time;\n- a set of values that increase proportionally (linearly) over time with the addition of random noise.",
      "metadata": {}
    },
    {
      "cell_type": "code",
      "source": "#Generate the dataset and preview it as a chart\nnumpoints = 50\n\ndf = pd.DataFrame({'x':np.arange(0, numpoints)})\n\n#Generate a column with values proportional to time\ndf['y'] =  df['x'] / numpoints\n\n#Generate a column with values inversely proportional to time\ndf['y2'] = 1 - df['y']\n\n#Generate a column with values proportional to time with the addition of random noise\ndf['y3'] = df.apply(lambda x: x['y']+((random.random()/5) - 0.1), axis=1)\n\nax = df.plot(kind='scatter', x='x', y='y', color='grey')\ndf.plot(kind='scatter', x='x', y='y2', color='green', ax=ax)\ndf.plot(kind='scatter', x='x', y='y3', color='red', ax=ax)\n\nax.set_xlabel('Sample number')\nax.set_ylabel('Value');",
      "metadata": {
        "trusted": true
      },
      "outputs": [],
      "execution_count": null
    },
    {
      "cell_type": "code",
      "source": "minf=200 #Minimum frequency\nmaxf=4000 #Maximum frequency\nduration = 2",
      "metadata": {
        "trusted": true
      },
      "outputs": [],
      "execution_count": null
    },
    {
      "cell_type": "markdown",
      "source": "Change the `col = ` setting to one of the other columns (`y`, `y2`, `y3`) to choose which set of data valus to visualise and sonify.",
      "metadata": {}
    },
    {
      "cell_type": "code",
      "source": "#Select a column to visualise and sonify\ncol = 'y'\n\ndf.plot(kind='scatter', x= 'x', y=col);\nAudio(makeAudio(df[col], duration, rate, minf, maxf), rate=rate, autoplay=False)",
      "metadata": {
        "trusted": true
      },
      "outputs": [],
      "execution_count": null
    },
    {
      "cell_type": "markdown",
      "source": "## Visualising a more random scatterplot",
      "metadata": {}
    },
    {
      "cell_type": "code",
      "source": "#Example of reordering a list of numbers in a random order\nnums = list(range(0,10))\nrandom.shuffle(nums)\nnums",
      "metadata": {
        "trusted": true
      },
      "outputs": [],
      "execution_count": null
    },
    {
      "cell_type": "code",
      "source": "samples = 100\n\ndf = pd.DataFrame({'x':np.arange(0,samples)})\nnums=list(range(0,samples))\n\nrandom.shuffle(nums)\ndf['y'] = nums\ndf.plot(kind='scatter',x= 'x',y='y');",
      "metadata": {
        "trusted": true
      },
      "outputs": [],
      "execution_count": null
    },
    {
      "cell_type": "code",
      "source": "df.plot(kind='scatter',x= 'x',y='y');\nAudio(makeAudio(df['y'], duration, rate), rate=rate, autoplay=False)",
      "metadata": {
        "trusted": true
      },
      "outputs": [],
      "execution_count": null
    },
    {
      "cell_type": "markdown",
      "source": "## Generating Scatterplots With a Specified Correlation\n\nWe can create a function that will generate scatterplots with a specified correlation.\n\nWe can then create an interactive scatterplot explorer that allows us to both visualise and sonify scatterplots with different correlations.",
      "metadata": {}
    },
    {
      "cell_type": "code",
      "source": "#ish via https://stackoverflow.com/a/18684433/454773\n\n#If the correlation is set to 1 we sometimes get a warning that we can ignore...\n#np.warnings.filterwarnings('ignore', r'covariance')\n\ndef generateCorrelatedData(correlation):\n    ''' Function to create a two dimensional dataset with a specified correlation between values '''\n    \n    xmin=0\n    xmax=100\n\n    ymin=0\n    ymax=1\n\n    xx = np.array([xmin, xmax])\n    yy = np.array([ymin, ymax])\n    means = [xx.mean(), yy.mean()]\n\n    #Set up the standard deviations so the half-interval corresponds to 3 standard deviations\n    #This means ~99% of the generated points will be inside the interval\n    stds = [xx.std() / 3, yy.std() / 3]\n\n    #Create the correlated data\n    covariances = [[stds[0]**2, stds[0]*stds[1]*correlation], [stds[0]*stds[1]*correlation, stds[1]**2]]\n    m = np.random.multivariate_normal(means, covariances, 50)\n    \n    #Represent the data as a dataframe\n    df = pd.DataFrame(m, columns=['x','y'])\n    \n    #Sort the dataframe by increasing x\n    df = df.sort_values('x').reset_index()\n    \n    return df",
      "metadata": {
        "trusted": true
      },
      "outputs": [],
      "execution_count": null
    },
    {
      "cell_type": "markdown",
      "source": "We can now use that function as part of an interactive scatterplot explorer.",
      "metadata": {}
    },
    {
      "cell_type": "code",
      "source": "@interact(correlation=(0,1,0.05))\ndef correlatedScatter(correlation=1.0):\n    df=generateCorrelatedData(correlation)\n    df.plot(kind='scatter', x='x', y='y', title='Correlation: {}'.format(correlation));\n    \n    display(Audio(makeAudio(df['y'], duration, rate), rate=rate, autoplay=False))",
      "metadata": {
        "trusted": true
      },
      "outputs": [],
      "execution_count": null
    },
    {
      "cell_type": "markdown",
      "source": "## Saving the Audio File\n\nAs well as playing hthe audio file, we can also save it.",
      "metadata": {}
    },
    {
      "cell_type": "code",
      "source": "data = makeAudio(df['y'], duration, rate)",
      "metadata": {
        "trusted": true
      },
      "outputs": [],
      "execution_count": null
    },
    {
      "cell_type": "code",
      "source": "#Wav file generator based on the Jupyter notebook Audio._make_wav() component\n\nimport struct\nfrom io import BytesIO\nimport wave\n\ndef saveWav(audio_data, filename='sonified.wav', returner=False):\n    nchan = 1\n\n    fp = BytesIO()\n\n    maxvalue = np.max(np.abs(audio_data))\n    scaled = np.int16(audio_data/maxvalue * 32767).tolist()\n\n    waveobj = wave.open(fp, mode='wb')\n    waveobj.setnchannels(nchan)\n    waveobj.setframerate(rate)\n    waveobj.setsampwidth(2)\n    waveobj.setcomptype('NONE','NONE')\n    waveobj.writeframes(b''.join([struct.pack('<h',x) for x in scaled]))\n    \n    val = fp.getvalue()\n    \n    waveobj.close()\n    \n    with open(filename,'wb') as out:\n        out.write(val)\n        \n    if returner: return val",
      "metadata": {
        "trusted": true
      },
      "outputs": [],
      "execution_count": null
    },
    {
      "cell_type": "code",
      "source": "# Save the data to an audio file\nsaveWav(data)\n\n# And load it in to an audio player\nAudio(\"sonified.wav\")",
      "metadata": {
        "trusted": true
      },
      "outputs": [],
      "execution_count": null
    },
    {
      "cell_type": "markdown",
      "source": "## Summary\n\nThis notebook has demonstrated how simple datasets can be \"visualised\" in an audible way using a technique referred to as a *sonification*.",
      "metadata": {}
    }
  ]
}